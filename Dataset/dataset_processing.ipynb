{
 "cells": [
  {
   "cell_type": "markdown",
   "id": "12c40d5e",
   "metadata": {},
   "source": [
    "# Dataset Processing"
   ]
  },
  {
   "cell_type": "code",
   "execution_count": 1,
   "id": "65d9828a",
   "metadata": {
    "ExecuteTime": {
     "end_time": "2023-06-26T17:26:03.270601Z",
     "start_time": "2023-06-26T17:26:00.781664Z"
    }
   },
   "outputs": [],
   "source": [
    "import json\n",
    "import re\n",
    "\n",
    "# Open json file\n",
    "with open(\"all_data.json\", \"r\") as f:\n",
    "    data = json.load(f)\n",
    "    f.close()\n",
    "\n",
    "# Remove the '/' at the end of each repository\n",
    "labels = list(data.keys())\n",
    "for label in labels:\n",
    "    repo_list = []\n",
    "    for repo in data[label]:\n",
    "        repo = repo.rstrip(\"/\")\n",
    "        repo_list.append(repo)\n",
    "    data[label] = repo_list\n",
    "\n",
    "# Remove not match \"user/repo\" pattern data\n",
    "for label in labels:\n",
    "    repo_list = []\n",
    "    for repo in data[label]:\n",
    "        if re.fullmatch(r\"(\\d|\\w|-|.)*/{1}(\\d|\\w|-|.)*\", repo):\n",
    "            repo_list.append(repo)\n",
    "    data[label] = repo_list\n",
    "\n",
    "# Update json file\n",
    "data_str = json.dumps(data, indent=4)\n",
    "with open(\"all_data.json\", \"w\") as f:\n",
    "    f.write(data_str)\n",
    "    f.close()"
   ]
  },
  {
   "cell_type": "code",
   "execution_count": 2,
   "id": "8c658b64",
   "metadata": {},
   "outputs": [
    {
     "name": "stdout",
     "output_type": "stream",
     "text": [
      "464\n"
     ]
    }
   ],
   "source": [
    "import pickle\n",
    "\n",
    "# Open json file\n",
    "with open(\"all_data.json\", \"r\") as f:\n",
    "    data = json.load(f)\n",
    "    f.close()\n",
    "\n",
    "REPOS = {}\n",
    "labels = list(data.keys())\n",
    "for label in labels:\n",
    "    for repo in data[label]:\n",
    "        REPOS[repo] = label\n",
    "\n",
    "# Write total data into REPOS.pkl\n",
    "print(len(REPOS.items()))\n",
    "with open(\"REPOS.pkl\", \"wb\") as f:\n",
    "      pickle.dump(REPOS, f)"
   ]
  },
  {
   "cell_type": "code",
   "execution_count": 3,
   "id": "ef053027",
   "metadata": {},
   "outputs": [
    {
     "name": "stdout",
     "output_type": "stream",
     "text": [
      "315\n"
     ]
    }
   ],
   "source": [
    "# Train data has been processed, and be saved into REPOS_train.pkl\n",
    "with open(\"REPOS_train.pkl\", \"rb\") as f:\n",
    "    REPOS_train = pickle.load(f)\n",
    "    f.close()\n",
    "print(len(REPOS_train.items()))"
   ]
  },
  {
   "cell_type": "code",
   "execution_count": 4,
   "id": "2ca161e9",
   "metadata": {},
   "outputs": [
    {
     "name": "stdout",
     "output_type": "stream",
     "text": [
      "149\n"
     ]
    }
   ],
   "source": [
    "REPOS_keys = REPOS.keys()\n",
    "REPOS_train_keys = REPOS_train.keys()\n",
    "\n",
    "# The reset data\n",
    "difference = list(set(REPOS_keys) - set(REPOS_train_keys))\n",
    "print(len(difference))\n",
    "\n",
    "REPOS_rest = {}\n",
    "for repo in difference:\n",
    "    REPOS_rest[repo] = REPOS[repo]"
   ]
  },
  {
   "cell_type": "code",
   "execution_count": 5,
   "id": "dd49c6d9",
   "metadata": {
    "ExecuteTime": {
     "end_time": "2023-06-26T17:26:09.432496Z",
     "start_time": "2023-06-26T17:26:09.384176Z"
    }
   },
   "outputs": [
    {
     "name": "stdout",
     "output_type": "stream",
     "text": [
      "104\n",
      "45\n"
     ]
    }
   ],
   "source": [
    "from sklearn.model_selection import train_test_split\n",
    "\n",
    "# Split the rest data into validation set and test set\n",
    "X = []\n",
    "Y = []\n",
    "\n",
    "for repo in REPOS_rest:\n",
    "    X.append(repo)\n",
    "    Y.append(REPOS_rest[repo])\n",
    "\n",
    "x_validation, x_test, y_validation, y_test = train_test_split(X, Y, random_state=42, test_size=0.3)\n",
    "print(len(x_validation))\n",
    "print(len(x_test))"
   ]
  },
  {
   "cell_type": "code",
   "execution_count": 6,
   "id": "02c539ea",
   "metadata": {
    "ExecuteTime": {
     "end_time": "2023-06-26T17:26:10.324386Z",
     "start_time": "2023-06-26T17:26:10.315357Z"
    }
   },
   "outputs": [],
   "source": [
    "REPOS_test = {}\n",
    "for i in range(len(x_test)):\n",
    "    REPOS_test[x_test[i]] = y_test[i]\n",
    "    \n",
    "REPOS_validation = {}\n",
    "for i in range(len(x_validation)):\n",
    "    REPOS_validation[x_validation[i]] = y_validation[i]\n",
    "\n",
    "with open(\"./REPOS_test.pkl\", \"wb\") as f:\n",
    "    pickle.dump(REPOS_test, f)\n",
    "    f.close()\n",
    "\n",
    "with open(\"./REPOS_validation.pkl\", \"wb\") as f:\n",
    "    pickle.dump(REPOS_validation, f)\n",
    "    f.close()"
   ]
  },
  {
   "cell_type": "code",
   "execution_count": 7,
   "id": "ee0f3e7d",
   "metadata": {
    "ExecuteTime": {
     "end_time": "2023-06-26T17:26:11.367101Z",
     "start_time": "2023-06-26T17:26:11.362736Z"
    }
   },
   "outputs": [
    {
     "name": "stdout",
     "output_type": "stream",
     "text": [
      "315\n"
     ]
    }
   ],
   "source": [
    "with open(\"./REPOS_train.pkl\", \"rb\") as f:\n",
    "    REPOS_train_check = pickle.load(f)\n",
    "    f.close()\n",
    "print(len(REPOS_train_check.items()))"
   ]
  },
  {
   "cell_type": "code",
   "execution_count": 8,
   "id": "0b5dafa7",
   "metadata": {
    "ExecuteTime": {
     "end_time": "2023-06-26T17:26:11.744569Z",
     "start_time": "2023-06-26T17:26:11.735537Z"
    }
   },
   "outputs": [
    {
     "name": "stdout",
     "output_type": "stream",
     "text": [
      "45\n"
     ]
    }
   ],
   "source": [
    "with open(\"./REPOS_test.pkl\", \"rb\") as f:\n",
    "    REPOS_test_check = pickle.load(f)\n",
    "    f.close()\n",
    "print(len(REPOS_test_check.items()))"
   ]
  },
  {
   "cell_type": "code",
   "execution_count": 9,
   "id": "422830f2",
   "metadata": {
    "ExecuteTime": {
     "end_time": "2023-06-26T17:26:12.204593Z",
     "start_time": "2023-06-26T17:26:12.198196Z"
    }
   },
   "outputs": [
    {
     "name": "stdout",
     "output_type": "stream",
     "text": [
      "104\n"
     ]
    }
   ],
   "source": [
    "with open(\"./REPOS_validation.pkl\", \"rb\") as f:\n",
    "    REPOS_validation_check = pickle.load(f)\n",
    "    f.close()\n",
    "print(len(REPOS_validation_check.items()))"
   ]
  },
  {
   "cell_type": "code",
   "execution_count": null,
   "id": "e4dd6ac3",
   "metadata": {},
   "outputs": [],
   "source": []
  }
 ],
 "metadata": {
  "kernelspec": {
   "display_name": "Python 3 (ipykernel)",
   "language": "python",
   "name": "python3"
  },
  "language_info": {
   "codemirror_mode": {
    "name": "ipython",
    "version": 3
   },
   "file_extension": ".py",
   "mimetype": "text/x-python",
   "name": "python",
   "nbconvert_exporter": "python",
   "pygments_lexer": "ipython3",
   "version": "3.10.12"
  }
 },
 "nbformat": 4,
 "nbformat_minor": 5
}
